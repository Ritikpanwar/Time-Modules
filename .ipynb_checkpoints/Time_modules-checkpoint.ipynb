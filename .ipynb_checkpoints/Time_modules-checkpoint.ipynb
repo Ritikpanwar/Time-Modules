{
 "cells": [
  {
   "cell_type": "code",
   "execution_count": 1,
   "metadata": {},
   "outputs": [],
   "source": [
    "import time"
   ]
  },
  {
   "cell_type": "code",
   "execution_count": 2,
   "metadata": {
    "scrolled": true
   },
   "outputs": [
    {
     "name": "stdout",
     "output_type": "stream",
     "text": [
      "['__name__', '__doc__', '__package__', '__loader__', '__spec__', 'time', 'time_ns', 'clock', 'sleep', 'gmtime', 'localtime', 'asctime', 'ctime', 'mktime', 'strftime', 'strptime', 'monotonic', 'monotonic_ns', 'process_time', 'process_time_ns', 'thread_time', 'thread_time_ns', 'perf_counter', 'perf_counter_ns', 'get_clock_info', 'timezone', 'altzone', 'daylight', 'tzname', '_STRUCT_TM_ITEMS', 'struct_time']\n"
     ]
    }
   ],
   "source": [
    "print(time.__dir__())"
   ]
  },
  {
   "cell_type": "code",
   "execution_count": 3,
   "metadata": {},
   "outputs": [
    {
     "data": {
      "text/plain": [
       "1590424628.727222"
      ]
     },
     "execution_count": 3,
     "metadata": {},
     "output_type": "execute_result"
    }
   ],
   "source": [
    "# This give the no. of second from 1 jan 1970 and which is known as epoch.\n",
    "time.time() "
   ]
  },
  {
   "cell_type": "code",
   "execution_count": 4,
   "metadata": {},
   "outputs": [
    {
     "data": {
      "text/plain": [
       "1590424629222450600"
      ]
     },
     "execution_count": 4,
     "metadata": {},
     "output_type": "execute_result"
    }
   ],
   "source": [
    "# This give the no. of  neno second from 1 jan 1970 and which is known as epoch.\n",
    "time.time_ns()"
   ]
  },
  {
   "cell_type": "markdown",
   "metadata": {},
   "source": [
    "## time.ctime()"
   ]
  },
  {
   "cell_type": "code",
   "execution_count": 5,
   "metadata": {},
   "outputs": [
    {
     "name": "stdout",
     "output_type": "stream",
     "text": [
      "Wed Jan 15 23:28:06 1975\n",
      "Mon May 25 22:07:09 2020\n"
     ]
    }
   ],
   "source": [
    "# It convert epoch into time string\n",
    "print(time.ctime(159040686))\n",
    "\n",
    "print(time.ctime())# If we not give an epoch o function it takes by default time.time()"
   ]
  },
  {
   "cell_type": "code",
   "execution_count": 6,
   "metadata": {
    "scrolled": true
   },
   "outputs": [
    {
     "name": "stderr",
     "output_type": "stream",
     "text": [
      "C:\\Users\\user\\Anaconda3\\lib\\site-packages\\ipykernel_launcher.py:1: DeprecationWarning: time.clock has been deprecated in Python 3.3 and will be removed from Python 3.8: use time.perf_counter or time.process_time instead\n",
      "  \"\"\"Entry point for launching an IPython kernel.\n"
     ]
    },
    {
     "data": {
      "text/plain": [
       "2.0170405"
      ]
     },
     "execution_count": 6,
     "metadata": {},
     "output_type": "execute_result"
    }
   ],
   "source": [
    "time.clock()"
   ]
  },
  {
   "cell_type": "code",
   "execution_count": 7,
   "metadata": {},
   "outputs": [
    {
     "name": "stdout",
     "output_type": "stream",
     "text": [
      "1590424629.611862\n",
      "1590424633.612171\n"
     ]
    }
   ],
   "source": [
    "print(time.time())\n",
    "time.sleep(4) # This stop the execution for 4 second and you can  the time according to you\n",
    "print(time.time())"
   ]
  },
  {
   "cell_type": "markdown",
   "metadata": {},
   "source": [
    "## time.gmtime()"
   ]
  },
  {
   "cell_type": "code",
   "execution_count": 8,
   "metadata": {},
   "outputs": [
    {
     "name": "stdout",
     "output_type": "stream",
     "text": [
      "time.struct_time(tm_year=1970, tm_mon=1, tm_mday=19, tm_hour=9, tm_min=46, tm_sec=56, tm_wday=0, tm_yday=19, tm_isdst=0)\n",
      "time.struct_time(tm_year=2020, tm_mon=5, tm_mday=25, tm_hour=16, tm_min=37, tm_sec=13, tm_wday=0, tm_yday=146, tm_isdst=0)\n"
     ]
    }
   ],
   "source": [
    "print(time.gmtime(1590416)) #It  takes the epoch and covert into time.struct_time of Greenwich Mean Time.\n",
    "print(time.gmtime()) # If we do not give the epoch  it use time().\n"
   ]
  },
  {
   "cell_type": "markdown",
   "metadata": {},
   "source": [
    "## time.localtime()"
   ]
  },
  {
   "cell_type": "code",
   "execution_count": 9,
   "metadata": {},
   "outputs": [
    {
     "name": "stdout",
     "output_type": "stream",
     "text": [
      "time.struct_time(tm_year=1970, tm_mon=1, tm_mday=19, tm_hour=15, tm_min=16, tm_sec=56, tm_wday=0, tm_yday=19, tm_isdst=0)\n",
      "time.struct_time(tm_year=2020, tm_mon=5, tm_mday=25, tm_hour=22, tm_min=7, tm_sec=13, tm_wday=0, tm_yday=146, tm_isdst=0)\n"
     ]
    }
   ],
   "source": [
    "# This give the time.struct_time by epoch\n",
    "\n",
    "print(time.localtime(1590416))#It  takes the epoch and covert into time.struct_time of Local Mean Time. \n",
    "\n",
    "print(time.localtime())# If we do not give the epoch  it use time()."
   ]
  },
  {
   "cell_type": "markdown",
   "metadata": {},
   "source": [
    "## time.asctime()"
   ]
  },
  {
   "cell_type": "code",
   "execution_count": 10,
   "metadata": {},
   "outputs": [
    {
     "name": "stdout",
     "output_type": "stream",
     "text": [
      "Mon May 25 23:59:59 2020\n",
      "Sun Nov 16 19:51:03 1980\n",
      "Mon May 25 22:07:13 2020\n"
     ]
    }
   ],
   "source": [
    "# It is use to convert time.struct_time to the time string\n",
    "\n",
    "t=(2020,5,25,23,59,59,0,146,0) # Define a tuple of 9 element\n",
    "\n",
    "s=time.localtime(343232463) #It  takes the epoch and covert into time.struct_time of Local Mean Time.\n",
    "print(time.asctime(t))# we can also give a tuple of 9 element\n",
    "print(time.asctime(s)) # we can give time.struct_time to get time string\n",
    "print(time.asctime()) # if we do not give anything it use time.localtime()"
   ]
  },
  {
   "cell_type": "markdown",
   "metadata": {},
   "source": [
    "## time.mktime()"
   ]
  },
  {
   "cell_type": "code",
   "execution_count": 11,
   "metadata": {},
   "outputs": [
    {
     "name": "stdout",
     "output_type": "stream",
     "text": [
      "1590424634.0\n",
      "3432324632.0\n"
     ]
    }
   ],
   "source": [
    "# It takes the time.struct_time and convert into epoch\n",
    "\n",
    "\n",
    "print(time.mktime(time.localtime())) # if we not give any thing it use time.localtime()\n",
    "\n",
    "\n",
    "# It is the reversal of localtime.Lets see it\n",
    "print(time.mktime(time.localtime(3432324632))) # output of this is same as epoch we give\n"
   ]
  },
  {
   "cell_type": "markdown",
   "metadata": {},
   "source": [
    "## time.srtftime() and time.srtptime()"
   ]
  },
  {
   "cell_type": "markdown",
   "metadata": {},
   "source": [
    "Directive                                           Meaning                                            \n",
    "\n",
    "%a                                                  Locale’s abbreviated weekday name.\n",
    "\n",
    "%A                                                  Locale’s full weekday name.\n",
    "\n",
    "%b                                                  Locale’s abbreviated month name.\n",
    "\n",
    "%B                                                  Locale’s full month name.\n",
    "\n",
    "%c                                                  Locale’s appropriate date and time representation.\n",
    "\n",
    "%d                                                  Day of the month as a decimal number [01,31].\n",
    "\n",
    "%H                                                  Hour (24-hour clock) as a decimal number [00,23].\n",
    "\n",
    "%I                                                  Hour (12-hour clock) as a decimal number [01,12].\n",
    "\n",
    "%j                                                  Day of the year as a decimal number [001,366].\n",
    "\n",
    "%m                                                  Month as a decimal number [01,12].\n",
    "\n",
    "%M                                                  Minute as a decimal number [00,59].\n",
    "\n",
    "%p                                                  Locale’s equivalent of either AM or PM.\n",
    "\n",
    "%S                                                  Second as a decimal number [00,61].\n",
    "\n",
    "%U                                                  Week number of the year (Sunday as the first day of the week) as a decimal                                                     number [00,53]. All days in a new year preceding the first Sunday are                                                           considered to be in week 0.\n",
    "\n",
    "%w                                                  Weekday as a decimal number [0(Sunday),6].\n",
    "\n",
    "%W                                                  Week number of the year (Monday as the first day of the week) as a decimal                                                     number [00,53]. All days in a new year preceding the first Monday are                                                           considered to be in week 0.\n",
    "\n",
    "%x                                                  Locale’s appropriate date representation.\n",
    "\n",
    "%X                                                  Locale’s appropriate time representation.\n",
    "\n",
    "%y                                                  Year without century as a decimal number [00,99].\n",
    "\n",
    "%Y                                                  Year with century as a decimal number.\n",
    "\n",
    "%z                                                  Time zone offset indicating a positive or negative time difference from                                                         UTC/GMT of the form +HHMM or -HHMM, where H represents decimal hour digits                                                     and M represents decimal minute digits [-23:59, +23:59].\n",
    "\n",
    "%Z                                                  Time zone name (no characters if no time zone exists).\n",
    "\n",
    "%%                                                  A literal '%' character.\n",
    "\n"
   ]
  },
  {
   "cell_type": "code",
   "execution_count": 12,
   "metadata": {},
   "outputs": [
    {
     "data": {
      "text/plain": [
       "'25/05/2020 , 22:07:14'"
      ]
     },
     "execution_count": 12,
     "metadata": {},
     "output_type": "execute_result"
    }
   ],
   "source": [
    "# we genrate time format according to us by time.struct_time \n",
    "\n",
    "time.strftime(\"%d/%m/%Y , %H:%M:%S\",time.localtime(time.time())) #it takes the time.struct_time or tuple of 9 element \n"
   ]
  },
  {
   "cell_type": "code",
   "execution_count": 13,
   "metadata": {},
   "outputs": [
    {
     "name": "stdout",
     "output_type": "stream",
     "text": [
      "time.struct_time(tm_year=2018, tm_mon=6, tm_mday=21, tm_hour=0, tm_min=0, tm_sec=0, tm_wday=3, tm_yday=172, tm_isdst=-1)\n",
      "time.struct_time(tm_year=2018, tm_mon=6, tm_mday=21, tm_hour=12, tm_min=38, tm_sec=45, tm_wday=3, tm_yday=172, tm_isdst=-1)\n"
     ]
    }
   ],
   "source": [
    "# by string we can genetrate time.struct_time by string \n",
    "\n",
    "time_string = \"21 June 2018\"\n",
    "result = time.strptime(time_string, \"%d %B %Y\") \n",
    "print(result)\n",
    "\n",
    "time_string = \"21 June 2018 12:38:45\"\n",
    "result = time.strptime(time_string, \"%d %B %Y %H:%M:%S\") \n",
    "print(result)\n"
   ]
  },
  {
   "cell_type": "markdown",
   "metadata": {},
   "source": [
    "## This are some type of clocks - monotonic,process,thread,pref_counter,time"
   ]
  },
  {
   "cell_type": "code",
   "execution_count": 14,
   "metadata": {},
   "outputs": [
    {
     "data": {
      "text/plain": [
       "1590424634.3447757"
      ]
     },
     "execution_count": 14,
     "metadata": {},
     "output_type": "execute_result"
    }
   ],
   "source": [
    "time.time()"
   ]
  },
  {
   "cell_type": "code",
   "execution_count": 15,
   "metadata": {},
   "outputs": [
    {
     "data": {
      "text/plain": [
       "8183.203"
      ]
     },
     "execution_count": 15,
     "metadata": {},
     "output_type": "execute_result"
    }
   ],
   "source": [
    "time.monotonic()"
   ]
  },
  {
   "cell_type": "code",
   "execution_count": 16,
   "metadata": {},
   "outputs": [
    {
     "data": {
      "text/plain": [
       "8183296000000"
      ]
     },
     "execution_count": 16,
     "metadata": {},
     "output_type": "execute_result"
    }
   ],
   "source": [
    "time.monotonic_ns()"
   ]
  },
  {
   "cell_type": "code",
   "execution_count": 17,
   "metadata": {},
   "outputs": [
    {
     "data": {
      "text/plain": [
       "0.765625"
      ]
     },
     "execution_count": 17,
     "metadata": {},
     "output_type": "execute_result"
    }
   ],
   "source": [
    "time.process_time()"
   ]
  },
  {
   "cell_type": "code",
   "execution_count": 18,
   "metadata": {},
   "outputs": [
    {
     "data": {
      "text/plain": [
       "781250000"
      ]
     },
     "execution_count": 18,
     "metadata": {},
     "output_type": "execute_result"
    }
   ],
   "source": [
    "time.process_time_ns()"
   ]
  },
  {
   "cell_type": "code",
   "execution_count": 19,
   "metadata": {},
   "outputs": [
    {
     "data": {
      "text/plain": [
       "0.640625"
      ]
     },
     "execution_count": 19,
     "metadata": {},
     "output_type": "execute_result"
    }
   ],
   "source": [
    "time.thread_time()"
   ]
  },
  {
   "cell_type": "code",
   "execution_count": 20,
   "metadata": {},
   "outputs": [
    {
     "data": {
      "text/plain": [
       "656250000"
      ]
     },
     "execution_count": 20,
     "metadata": {},
     "output_type": "execute_result"
    }
   ],
   "source": [
    "time.thread_time_ns()"
   ]
  },
  {
   "cell_type": "code",
   "execution_count": 21,
   "metadata": {},
   "outputs": [
    {
     "data": {
      "text/plain": [
       "7.6645884"
      ]
     },
     "execution_count": 21,
     "metadata": {},
     "output_type": "execute_result"
    }
   ],
   "source": [
    "time.perf_counter()"
   ]
  },
  {
   "cell_type": "code",
   "execution_count": 22,
   "metadata": {},
   "outputs": [
    {
     "data": {
      "text/plain": [
       "7769463700"
      ]
     },
     "execution_count": 22,
     "metadata": {},
     "output_type": "execute_result"
    }
   ],
   "source": [
    "time.perf_counter_ns()"
   ]
  },
  {
   "cell_type": "markdown",
   "metadata": {},
   "source": [
    "## This function gives the information of the clock of different type"
   ]
  },
  {
   "cell_type": "code",
   "execution_count": 23,
   "metadata": {},
   "outputs": [
    {
     "name": "stderr",
     "output_type": "stream",
     "text": [
      "C:\\Users\\user\\Anaconda3\\lib\\site-packages\\ipykernel_launcher.py:1: DeprecationWarning: time.clock has been deprecated in Python 3.3 and will be removed from Python 3.8: use time.perf_counter or time.process_time instead\n",
      "  \"\"\"Entry point for launching an IPython kernel.\n"
     ]
    },
    {
     "data": {
      "text/plain": [
       "namespace(adjustable=False, implementation='QueryPerformanceCounter()', monotonic=True, resolution=1e-07)"
      ]
     },
     "execution_count": 23,
     "metadata": {},
     "output_type": "execute_result"
    }
   ],
   "source": [
    "time.get_clock_info('clock')"
   ]
  },
  {
   "cell_type": "code",
   "execution_count": 24,
   "metadata": {},
   "outputs": [
    {
     "data": {
      "text/plain": [
       "namespace(adjustable=False, implementation='GetTickCount64()', monotonic=True, resolution=0.015625)"
      ]
     },
     "execution_count": 24,
     "metadata": {},
     "output_type": "execute_result"
    }
   ],
   "source": [
    "time.get_clock_info('monotonic')"
   ]
  },
  {
   "cell_type": "code",
   "execution_count": 25,
   "metadata": {},
   "outputs": [
    {
     "data": {
      "text/plain": [
       "namespace(adjustable=False, implementation='GetProcessTimes()', monotonic=True, resolution=1e-07)"
      ]
     },
     "execution_count": 25,
     "metadata": {},
     "output_type": "execute_result"
    }
   ],
   "source": [
    "time.get_clock_info('process_time')"
   ]
  },
  {
   "cell_type": "code",
   "execution_count": 26,
   "metadata": {},
   "outputs": [
    {
     "data": {
      "text/plain": [
       "namespace(adjustable=False, implementation='GetThreadTimes()', monotonic=True, resolution=1e-07)"
      ]
     },
     "execution_count": 26,
     "metadata": {},
     "output_type": "execute_result"
    }
   ],
   "source": [
    "time.get_clock_info('thread_time')"
   ]
  },
  {
   "cell_type": "code",
   "execution_count": 27,
   "metadata": {},
   "outputs": [
    {
     "data": {
      "text/plain": [
       "namespace(adjustable=True, implementation='GetSystemTimeAsFileTime()', monotonic=False, resolution=0.015625)"
      ]
     },
     "execution_count": 27,
     "metadata": {},
     "output_type": "execute_result"
    }
   ],
   "source": [
    "time.get_clock_info('time')"
   ]
  },
  {
   "cell_type": "code",
   "execution_count": 28,
   "metadata": {},
   "outputs": [
    {
     "name": "stdout",
     "output_type": "stream",
     "text": [
      "-19800\n",
      "19800.0\n"
     ]
    }
   ],
   "source": [
    "print(time.timezone) # it give -19800 because our local time (India) is 5:30 hours behind then GMT for Asia ,Africa ,Most of Europe\n",
    "print(5.5*60*60) # seconds in 5 and 1/2 hour"
   ]
  },
  {
   "cell_type": "code",
   "execution_count": 29,
   "metadata": {},
   "outputs": [
    {
     "data": {
      "text/plain": [
       "-23400"
      ]
     },
     "execution_count": 29,
     "metadata": {},
     "output_type": "execute_result"
    }
   ],
   "source": [
    "time.altzone #only use this when daylight is non-zero 23400 sec= 6.5 hours and for east UTC(as in Western Europe)"
   ]
  },
  {
   "cell_type": "code",
   "execution_count": 30,
   "metadata": {},
   "outputs": [
    {
     "data": {
      "text/plain": [
       "0"
      ]
     },
     "execution_count": 30,
     "metadata": {},
     "output_type": "execute_result"
    }
   ],
   "source": [
    "time.daylight"
   ]
  },
  {
   "cell_type": "code",
   "execution_count": 31,
   "metadata": {},
   "outputs": [
    {
     "data": {
      "text/plain": [
       "('India Standard Time', 'India Daylight Time')"
      ]
     },
     "execution_count": 31,
     "metadata": {},
     "output_type": "execute_result"
    }
   ],
   "source": [
    "time.tzname # It give  you current timezone name"
   ]
  },
  {
   "cell_type": "code",
   "execution_count": 32,
   "metadata": {},
   "outputs": [
    {
     "data": {
      "text/plain": [
       "11"
      ]
     },
     "execution_count": 32,
     "metadata": {},
     "output_type": "execute_result"
    }
   ],
   "source": [
    "time._STRUCT_TM_ITEMS # it give how many item in time.struct_time\n"
   ]
  },
  {
   "cell_type": "markdown",
   "metadata": {},
   "source": [
    "Index                                   Attribute                                   Values\n",
    "\n",
    "0                                       tm_year                                     (for example, 1993)\n",
    "\n",
    "1                                       tm_mon                                      range [1, 12]\n",
    "\n",
    "2                                       tm_mday                                       range [1, 31]\n",
    "\n",
    "3                                       tm_hour                                       range [0, 23]\n",
    "\n",
    "4                                       tm_min                                       range [0, 59]\n",
    "\n",
    "5                                       tm_sec                                       range [0, 61]; see (2) in strftime() description\n",
    "\n",
    "6                                       tm_wday                                       range [0, 6], Monday is 0\n",
    "\n",
    "7                                       tm_yday                                       range [1, 366]\n",
    "\n",
    "8                                       tm_isdst                                       0, 1 or -1; see below\n",
    "\n",
    "N/A                                       tm_zone                                       abbreviation of timezone name\n",
    "\n",
    "N/A                                       tm_gmtoff                                       offset east of UTC in seconds"
   ]
  },
  {
   "cell_type": "code",
   "execution_count": 33,
   "metadata": {},
   "outputs": [
    {
     "data": {
      "text/plain": [
       "time.struct_time(tm_year=2020, tm_mon=5, tm_mday=25, tm_hour=23, tm_min=59, tm_sec=59, tm_wday=0, tm_yday=146, tm_isdst=0)"
      ]
     },
     "execution_count": 33,
     "metadata": {},
     "output_type": "execute_result"
    }
   ],
   "source": [
    "time.struct_time(t)\n",
    "# it takes the tuple of 9 elements "
   ]
  }
 ],
 "metadata": {
  "kernelspec": {
   "display_name": "Python 3",
   "language": "python",
   "name": "python3"
  },
  "language_info": {
   "codemirror_mode": {
    "name": "ipython",
    "version": 3
   },
   "file_extension": ".py",
   "mimetype": "text/x-python",
   "name": "python",
   "nbconvert_exporter": "python",
   "pygments_lexer": "ipython3",
   "version": "3.7.4"
  }
 },
 "nbformat": 4,
 "nbformat_minor": 2
}
